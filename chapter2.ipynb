{
 "cells": [
  {
   "cell_type": "markdown",
   "metadata": {},
   "source": [
    "# 感知机\n",
    "\n",
    "感知机接收多个输入信号， 输出一个信号。输入的信号被送往神经元时， 会被分别乘以固定的权重。神经元会计算传送过来的信号总和， 只有当这个中和超过了某个界限值(*阀值*)时， 才会输出1。这也称为_神经元被激活_。\n",
    "\n",
    "感知机的运行原理，就是式：\n",
    "$$ y= \\begin{cases} 0\\quad(w_1x_1+w_2x_2 \\leq\\theta) \\\\ 1\\quad(w_1x_1+w_2x_2 >\\theta)\\end{cases} $$\n"
   ]
  },
  {
   "cell_type": "markdown",
   "metadata": {},
   "source": [
    "## 与门实现\n",
    "\n",
    "阀值取反为b 称为偏值并决定了神经元激活的容易程度， w1 和 w2为权重说明各个输入的重要性。异或门因为感知机局限性无法实现， 感知机局限性就在于它只能表示用直线分割的空间。\n",
    "\n",
    "> 感知机支持 与门， 与非门， 或门 是具有相同构造的感知机， 区别只在于权重参数的值。\n",
    "\n",
    "$$ y= \\begin{cases} 0\\quad(b+w_1x_1+w_2x_2 \\leq0) \\\\ 1\\quad(b+w_1x_1+w_2x_2 >0)\\end{cases} $$"
   ]
  },
  {
   "cell_type": "code",
   "execution_count": 1,
   "metadata": {},
   "outputs": [
    {
     "name": "stdout",
     "output_type": "stream",
     "text": [
      "1\n",
      "0\n",
      "0\n"
     ]
    }
   ],
   "source": [
    "import numpy as np\n",
    "\n",
    "\n",
    "# b 称为偏值并决定了神经元激活的难易成都， w1 和 w2为权重说明各个输入的重要性。\n",
    "def AND(x1, x2):\n",
    "    w1, w2 = 0.5, 0.5\n",
    "    b = -0.7\n",
    "    x = np.array([x1, x2])\n",
    "    w = np.array([w1, w2])\n",
    "    tmp = np.sum(x * w) + b\n",
    "    if tmp <= 0:\n",
    "        return 0\n",
    "    else:\n",
    "        return 1\n",
    "\n",
    "\n",
    "print(AND(1, 1))\n",
    "print(AND(1, 0))\n",
    "print(AND(0, 0))"
   ]
  },
  {
   "cell_type": "markdown",
   "metadata": {},
   "source": [
    "## 多层感知机\n",
    "\n",
    "感知机可以进行叠加，叠加多层的感知机也称为多层感知机；由于单层感知机的局限性（无法分离非线性的空间）无法实现异或门，将组合多层感知机实现异或门。\n",
    "\n",
    "### 异或门的实现"
   ]
  },
  {
   "cell_type": "code",
   "execution_count": null,
   "metadata": {},
   "outputs": [],
   "source": []
  }
 ],
 "metadata": {
  "kernelspec": {
   "display_name": "Python 3",
   "language": "python",
   "name": "python3"
  },
  "language_info": {
   "codemirror_mode": {
    "name": "ipython",
    "version": 3
   },
   "file_extension": ".py",
   "mimetype": "text/x-python",
   "name": "python",
   "nbconvert_exporter": "python",
   "pygments_lexer": "ipython3",
   "version": "3.7.3"
  },
  "toc": {
   "base_numbering": 1,
   "nav_menu": {},
   "number_sections": true,
   "sideBar": true,
   "skip_h1_title": false,
   "title_cell": "Table of Contents",
   "title_sidebar": "Contents",
   "toc_cell": false,
   "toc_position": {},
   "toc_section_display": true,
   "toc_window_display": false
  }
 },
 "nbformat": 4,
 "nbformat_minor": 2
}
